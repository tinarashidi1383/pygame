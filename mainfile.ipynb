{
 "cells": [
  {
   "cell_type": "code",
   "execution_count": 2,
   "metadata": {},
   "outputs": [],
   "source": [
    "import pygame\n",
    "import sys\n",
    "from color import *\n",
    "from objects import *\n",
    "import numpy as np"
   ]
  },
  {
   "cell_type": "code",
   "execution_count": 3,
   "metadata": {},
   "outputs": [
    {
     "name": "stderr",
     "output_type": "stream",
     "text": [
      "C:\\Users\\Sama.co\\AppData\\Local\\Temp\\ipykernel_10140\\1312429073.py:75: FutureWarning: elementwise comparison failed; returning scalar instead, but in the future will perform elementwise comparison\n",
      "  if state != \"continue\" :\n",
      "C:\\Users\\Sama.co\\AppData\\Local\\Temp\\ipykernel_10140\\1312429073.py:76: FutureWarning: elementwise comparison failed; returning scalar instead, but in the future will perform elementwise comparison\n",
      "  if state == \"tie\":\n"
     ]
    },
    {
     "name": "stdout",
     "output_type": "stream",
     "text": [
      "tie\n"
     ]
    },
    {
     "ename": "",
     "evalue": "",
     "output_type": "error",
     "traceback": [
      "\u001b[1;31mThe Kernel crashed while executing code in the current cell or a previous cell. \n",
      "\u001b[1;31mPlease review the code in the cell(s) to identify a possible cause of the failure. \n",
      "\u001b[1;31mClick <a href='https://aka.ms/vscodeJupyterKernelCrash'>here</a> for more info. \n",
      "\u001b[1;31mView Jupyter <a href='command:jupyter.viewOutput'>log</a> for further details."
     ]
    }
   ],
   "source": [
    "pygame.init() #پای گیم را لود کن در حافظه\n",
    "game_dispaly = pygame.display.set_mode((400,400)) \n",
    "pygame.display.set_caption(\"Tik-Tok-Toe\") \n",
    "half_title= 130//2\n",
    "tile_size=130\n",
    "cords = [2.5,135,268]\n",
    "game_board = np.array([[0,0,0],[0,0,0],[0,0,0]])\n",
    "\n",
    "\n",
    "\n",
    "def show():\n",
    "\tfor sq in sq_list:\n",
    "\t\tpygame.draw.rect(game_dispaly, (255,255,255), sq)\n",
    "def circle(i):\n",
    "\trow,col=i//3,i%3\n",
    "\tpygame.draw.circle(game_dispaly,\n",
    "\t\t\t\t\t(255,0,0),\n",
    "\t\t\t\t\t(cords[col]+half_title,cords[row]+half_title),\n",
    "\t\t\t\t\t50,7)\n",
    "def cross(i):\n",
    "\trow,col=i//3,i%3\n",
    "\tpygame.draw.line(game_dispaly,(0,0,255),(cords[col]+20,cords[row]+20),\n",
    "\t\t\t\t  (cords[col]+tile_size-20,cords[row]+tile_size-20),7)\n",
    "\tpygame.draw.line(game_dispaly,(0,0,255),(cords[col]+20,cords[row]+tile_size-20),\n",
    "\t\t\t\t  (cords[col]+tile_size-20,cords[row]+20),7)\n",
    "\t\n",
    "def checkstate(gb):\n",
    "\tfor i in range(3):\n",
    "\t\trow = np.unique(gb[:,i])\t\n",
    "\t\tcol = np.unique(gb[i,:])\n",
    "\t\tif len(row)==1 and row != 0:\n",
    "\t\t\treturn row\n",
    "\t\tif len(col)== 1 and col != 0:\n",
    "\t\t\treturn col\n",
    "\tif gb[0][0] == gb[1][1] and gb[1][1] == gb[2][2] and gb[0][0] != 0:\n",
    "\t\treturn gb[1][1]\n",
    "\telif gb[2][0] == gb[1][1] and gb[1][1] == gb[0][2] and gb[2][0] != 0:\n",
    "\t\treturn gb[1][1]\n",
    "\tif 0 not in np.unique(gb):\n",
    "\t\treturn 'tie'\n",
    "\treturn \"continue\"\t\n",
    "\n",
    "def restart():\n",
    "\treturn np.array([[0,0,0],[0,0,0],[0,0,0]])\n",
    "\n",
    "\n",
    "\n",
    "turn = False\t\t\t\n",
    "show()\n",
    "allow = True\n",
    "while True:\n",
    "\tfor event in pygame.event.get():\n",
    "\t\tif event.type == pygame.QUIT: \n",
    "\t\t\tpygame.quit\n",
    "\t\t\tsys.exit()\n",
    "\t\tif event.type==pygame.MOUSEBUTTONUP and allow:\n",
    "\t\t\tpos = pygame.mouse.get_pos()\n",
    "\t\t\tfor sq in range(len(sq_list)):\n",
    "\t\t\t\tif sq_list[sq].collidepoint(pos):\n",
    "\t\t\t\t\trow,col = sq//3,sq%3\n",
    "\t\t\t\t\tif game_board[row][col] == 0:\n",
    "\t\t\t\t\t\tif turn:\n",
    "\t\t\t\t\t\t\tcircle(sq)\n",
    "\t\t\t\t\t\t\tturn  = not turn\n",
    "\t\t\t\t\t\t\tgame_board[row][col] = int(turn)+1\n",
    "\t\t\t\t\t\telse:\n",
    "\t\t\t\t\t\t\tcross(sq)\n",
    "\t\t\t\t\t\t\tturn  = not turn\n",
    "\t\t\t\t\t\t\tgame_board[row][col] = int(turn)+1\n",
    "\t\n",
    "\tpygame.display.update()\t\n",
    "\tif allow:\n",
    "\n",
    "\t\tstate = checkstate(game_board)\n",
    "\t\tif state != \"continue\" :\n",
    "\t\t\tif state == \"tie\":\n",
    "\t\t\t\tprint(f'Player{state} won!',state)\n",
    "\t\t\telse:\n",
    "\t\t\t\tprint('tie')\t\n",
    "\t\t\tif input(\"do you want to continue?  (y,n)\") == \"y\":\n",
    "\t\t\t\tgame_board\t= restart()\n",
    "\t\t\t\tshow()\n",
    "\t\t\telse:\n",
    "\t\t\t\tallow = False"
   ]
  },
  {
   "cell_type": "code",
   "execution_count": null,
   "metadata": {},
   "outputs": [],
   "source": []
  },
  {
   "cell_type": "code",
   "execution_count": null,
   "metadata": {},
   "outputs": [],
   "source": []
  }
 ],
 "metadata": {
  "kernelspec": {
   "display_name": "Python 3",
   "language": "python",
   "name": "python3"
  },
  "language_info": {
   "codemirror_mode": {
    "name": "ipython",
    "version": 3
   },
   "file_extension": ".py",
   "mimetype": "text/x-python",
   "name": "python",
   "nbconvert_exporter": "python",
   "pygments_lexer": "ipython3",
   "version": "3.11.1"
  }
 },
 "nbformat": 4,
 "nbformat_minor": 2
}
